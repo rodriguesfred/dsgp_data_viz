{
 "cells": [
  {
   "cell_type": "code",
   "execution_count": null,
   "metadata": {
    "application/vnd.databricks.v1+cell": {
     "cellMetadata": {},
     "inputWidgets": {},
     "nuid": "ca03d566-9865-4889-9d97-260768949ff4",
     "showTitle": false,
     "title": ""
    }
   },
   "outputs": [],
   "source": [
    "import pandas as pd\n",
    "import pygwalker as pyg\n",
    "\n",
    "source_data = pd.read_csv('AmesHousing.csv')\n",
    "\n"
   ]
  },
  {
   "cell_type": "code",
   "execution_count": null,
   "metadata": {
    "application/vnd.databricks.v1+cell": {
     "cellMetadata": {},
     "inputWidgets": {},
     "nuid": "490cd291-4a58-4095-adf9-0471970314f7",
     "showTitle": false,
     "title": ""
    }
   },
   "outputs": [],
   "source": [
    "list(source_data.columns)"
   ]
  },
  {
   "cell_type": "code",
   "execution_count": null,
   "metadata": {
    "application/vnd.databricks.v1+cell": {
     "cellMetadata": {},
     "inputWidgets": {},
     "nuid": "1b4c9b91-2772-45fb-a0e0-19a292340c79",
     "showTitle": false,
     "title": ""
    }
   },
   "outputs": [],
   "source": [
    "source_data.describe(include='all')"
   ]
  },
  {
   "cell_type": "code",
   "execution_count": null,
   "metadata": {
    "application/vnd.databricks.v1+cell": {
     "cellMetadata": {},
     "inputWidgets": {},
     "nuid": "7d1a904d-0c1e-4a62-8de3-376647c412c1",
     "showTitle": false,
     "title": ""
    }
   },
   "outputs": [],
   "source": [
    "source_data['Neighborhood'].unique()"
   ]
  },
  {
   "cell_type": "code",
   "execution_count": null,
   "metadata": {
    "application/vnd.databricks.v1+cell": {
     "cellMetadata": {},
     "inputWidgets": {},
     "nuid": "21b276e7-7c7f-41c2-a34e-dcf9a7b6a632",
     "showTitle": false,
     "title": ""
    }
   },
   "outputs": [],
   "source": [
    "neighbourhoods = pd.read_csv('neighbourhood_codes.csv', names=['codes', 'name'])"
   ]
  },
  {
   "cell_type": "code",
   "execution_count": null,
   "metadata": {
    "application/vnd.databricks.v1+cell": {
     "cellMetadata": {},
     "inputWidgets": {},
     "nuid": "4a9661c2-a6c5-4a66-8e02-30f65448fb77",
     "showTitle": false,
     "title": ""
    }
   },
   "outputs": [],
   "source": [
    "neighbourhoods['codes']=neighbourhoods['codes'].str.strip()"
   ]
  },
  {
   "cell_type": "code",
   "execution_count": null,
   "metadata": {
    "application/vnd.databricks.v1+cell": {
     "cellMetadata": {},
     "inputWidgets": {},
     "nuid": "e2ba98cc-7dd4-4c68-bdca-6b7ab66735ac",
     "showTitle": false,
     "title": ""
    }
   },
   "outputs": [],
   "source": [
    "neighbourhoods['codes'].unique()"
   ]
  },
  {
   "cell_type": "code",
   "execution_count": null,
   "metadata": {
    "application/vnd.databricks.v1+cell": {
     "cellMetadata": {},
     "inputWidgets": {},
     "nuid": "56a5502c-91ab-44be-9c7c-766773fb9e76",
     "showTitle": false,
     "title": ""
    }
   },
   "outputs": [],
   "source": [
    "neighbourhoods['codes']=neighbourhoods['codes'].str.strip()\n",
    "cleaned_data = source_data.merge(neighbourhoods, left_on='Neighborhood', right_on='codes')"
   ]
  },
  {
   "cell_type": "code",
   "execution_count": null,
   "metadata": {
    "application/vnd.databricks.v1+cell": {
     "cellMetadata": {},
     "inputWidgets": {},
     "nuid": "97499ac0-9f15-4d74-ac89-9e6c9b8aa6ab",
     "showTitle": false,
     "title": ""
    }
   },
   "outputs": [],
   "source": [
    "cleaned_data['name'].unique()"
   ]
  },
  {
   "cell_type": "code",
   "execution_count": null,
   "metadata": {
    "application/vnd.databricks.v1+cell": {
     "cellMetadata": {},
     "inputWidgets": {},
     "nuid": "d3ba5223-31d2-4879-a4df-7c2c285e2b4c",
     "showTitle": false,
     "title": ""
    }
   },
   "outputs": [],
   "source": [
    "import geopandas as gpd"
   ]
  },
  {
   "cell_type": "code",
   "execution_count": null,
   "metadata": {
    "application/vnd.databricks.v1+cell": {
     "cellMetadata": {},
     "inputWidgets": {},
     "nuid": "aed3bb83-f940-462f-991f-15fe1b563875",
     "showTitle": false,
     "title": ""
    }
   },
   "outputs": [],
   "source": [
    "precincts = gpd.read_file('Ames Precinct Boundaries/Ames_-_Precincts_2.shp')"
   ]
  },
  {
   "cell_type": "code",
   "execution_count": null,
   "metadata": {
    "application/vnd.databricks.v1+cell": {
     "cellMetadata": {},
     "inputWidgets": {},
     "nuid": "b41b8afb-7b66-4231-8b61-dc76fef44e5e",
     "showTitle": false,
     "title": ""
    }
   },
   "outputs": [],
   "source": []
  }
 ],
 "metadata": {
  "application/vnd.databricks.v1+notebook": {
   "dashboards": [],
   "language": "python",
   "notebookMetadata": {
    "pythonIndentUnit": 4
   },
   "notebookName": "data_cleaning",
   "widgets": {}
  },
  "kernelspec": {
   "display_name": ".venv",
   "language": "python",
   "name": "python3"
  },
  "language_info": {
   "codemirror_mode": {
    "name": "ipython",
    "version": 3
   },
   "file_extension": ".py",
   "mimetype": "text/x-python",
   "name": "python",
   "nbconvert_exporter": "python",
   "pygments_lexer": "ipython3",
   "version": "3.10.10 (tags/v3.10.10:aad5f6a, Feb  7 2023, 17:20:36) [MSC v.1929 64 bit (AMD64)]"
  },
  "orig_nbformat": 4,
  "vscode": {
   "interpreter": {
    "hash": "bef7184c44202549aead4098124e759d89304349af20729cea842e307384a7f7"
   }
  }
 },
 "nbformat": 4,
 "nbformat_minor": 0
}
