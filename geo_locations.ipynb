{
 "cells": [
  {
   "cell_type": "markdown",
   "metadata": {
    "application/vnd.databricks.v1+cell": {
     "cellMetadata": {},
     "inputWidgets": {},
     "nuid": "b6700ea2-4a29-4d46-972e-16867fe5fc9f",
     "showTitle": false,
     "title": ""
    },
    "collapsed": true,
    "pycharm": {
     "name": "#%% md\n"
    }
   },
   "source": [
    "This notebook is used to get geo locations for addresses in the housing dataset.\n",
    "WARNING: Does not currently remove duplicate properties\n",
    "\n",
    "Reads `Ames_Real_Estate_Data.csv` and `Ames_Housing_Price_Data.csv`\n",
    "Writes `housing_geolocation.csv` with location columns `latitude` and `longitude`"
   ]
  },
  {
   "cell_type": "code",
   "execution_count": 0,
   "metadata": {
    "application/vnd.databricks.v1+cell": {
     "cellMetadata": {},
     "inputWidgets": {},
     "nuid": "f436ea04-1eea-4d68-ba19-9cf8e2c8b340",
     "showTitle": false,
     "title": ""
    },
    "collapsed": false,
    "pycharm": {
     "name": "#%%\n"
    }
   },
   "outputs": [],
   "source": [
    "# See: https://geopy.readthedocs.io/en/stable/#usage-with-pandas\n",
    "\n",
    "import pandas as pd\n",
    "from geopy import Nominatim\n",
    "from geopy.extra.rate_limiter import RateLimiter\n",
    "from tqdm import tqdm\n",
    "\n",
    "# Show progress bar\n",
    "tqdm.pandas()"
   ]
  },
  {
   "cell_type": "code",
   "execution_count": 0,
   "metadata": {
    "application/vnd.databricks.v1+cell": {
     "cellMetadata": {},
     "inputWidgets": {},
     "nuid": "4afa4620-9307-4e97-a17f-889bef37351d",
     "showTitle": false,
     "title": ""
    },
    "collapsed": false,
    "pycharm": {
     "name": "#%%\n"
    }
   },
   "outputs": [],
   "source": [
    "# TODO check: Do we need anything besides Prop_Addr from the real estate data?\n",
    "df = pd.read_csv('../data/Ames_Real_Estate_Data.csv', usecols=['MapRefNo', 'Prop_Addr'])\n",
    "housing = pd.read_csv('../data/Ames_Housing_Price_Data.csv', index_col=0)\n",
    "merged = pd.merge(left=housing, right=df,\n",
    "                  left_on=\"PID\", right_on=\"MapRefNo\")\n",
    "# NOTE: We have not removed dupes above TODO fix\n"
   ]
  },
  {
   "cell_type": "code",
   "execution_count": 0,
   "metadata": {
    "application/vnd.databricks.v1+cell": {
     "cellMetadata": {},
     "inputWidgets": {},
     "nuid": "8868a286-4201-4058-9d37-eab16ad14ff6",
     "showTitle": false,
     "title": ""
    },
    "collapsed": false,
    "pycharm": {
     "name": "#%%\n"
    }
   },
   "outputs": [],
   "source": [
    "print(f\"Housing data has {len(set(housing.PID))} unique PIDs, but {len(housing.PID)} total PIDs\")\n",
    "print(f\"Address data has {len(set(df.MapRefNo))} unique MapRefNos, but {len(df.MapRefNo)} total MapRefNos\\n\")\n",
    "\n",
    "print(f\"<---- WARNING WARNING WARNING ----> \\nMerge found {merged.shape[0]} properties with addresses out of {housing.shape[0]} total\")"
   ]
  },
  {
   "cell_type": "code",
   "execution_count": 0,
   "metadata": {
    "application/vnd.databricks.v1+cell": {
     "cellMetadata": {},
     "inputWidgets": {},
     "nuid": "63af9b38-ce47-4ab5-b1c8-8cb5210cbeae",
     "showTitle": false,
     "title": ""
    },
    "collapsed": false,
    "pycharm": {
     "name": "#%%\n"
    }
   },
   "outputs": [],
   "source": [
    "# Use Nominatim as geolocator provider\n",
    "geolocator = Nominatim(user_agent=\"ames-iowa-nycdsa-1\")\n",
    "geocode = RateLimiter(geolocator.geocode, min_delay_seconds=1)\n",
    "\n",
    "# Get location from provider\n",
    "merged['Prop_Addr_Full'] = merged['Prop_Addr'] + \", Ames, USA\"\n",
    "merged['geolocation'] = merged['Prop_Addr_Full'].progress_apply(geocode)"
   ]
  },
  {
   "cell_type": "code",
   "execution_count": 0,
   "metadata": {
    "application/vnd.databricks.v1+cell": {
     "cellMetadata": {},
     "inputWidgets": {},
     "nuid": "35f3fa4b-06ff-4f35-a7f5-1a2588d5a5f5",
     "showTitle": false,
     "title": ""
    },
    "collapsed": false,
    "pycharm": {
     "name": "#%%\n"
    }
   },
   "outputs": [],
   "source": [
    "# Extract lat/lon from location\n",
    "merged['latitude'] = merged['geolocation'].apply(lambda loc: loc.latitude if loc else None)\n",
    "merged['longitude'] = merged['geolocation'].apply(lambda loc: loc.longitude if loc else None)"
   ]
  },
  {
   "cell_type": "code",
   "execution_count": 0,
   "metadata": {
    "application/vnd.databricks.v1+cell": {
     "cellMetadata": {},
     "inputWidgets": {},
     "nuid": "c421b2b3-e9a0-4d40-b902-38ecc38b5d92",
     "showTitle": false,
     "title": ""
    },
    "collapsed": false,
    "pycharm": {
     "name": "#%%\n"
    }
   },
   "outputs": [],
   "source": [
    "merged.to_csv(\"../data/housing_geolocation.csv\")"
   ]
  }
 ],
 "metadata": {
  "application/vnd.databricks.v1+notebook": {
   "dashboards": [],
   "language": "python",
   "notebookMetadata": {
    "pythonIndentUnit": 4
   },
   "notebookName": "geo_locations",
   "widgets": {}
  },
  "kernelspec": {
   "display_name": "Python 3",
   "language": "python",
   "name": "python3"
  },
  "language_info": {
   "codemirror_mode": {
    "name": "ipython",
    "version": 2
   },
   "file_extension": ".py",
   "mimetype": "text/x-python",
   "name": "python",
   "nbconvert_exporter": "python",
   "pygments_lexer": "ipython2",
   "version": "2.7.6"
  }
 },
 "nbformat": 4,
 "nbformat_minor": 0
}
