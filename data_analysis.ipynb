import matplotlib.pyplot as plt

source_data = pd.read_csv('AmesHousing.csv')

target.plot.hist(bins=20, edgecolor="black")
plt.xlabel("House price in $")
_ = plt.title("Distribution of the house price \nin Ames")