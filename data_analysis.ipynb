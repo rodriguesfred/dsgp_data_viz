{
 "cells": [
  {
   "cell_type": "code",
   "execution_count": 0,
   "metadata": {
    "application/vnd.databricks.v1+cell": {
     "cellMetadata": {
      "byteLimit": 2048000,
      "rowLimit": 10000
     },
     "inputWidgets": {},
     "nuid": "7e69618f-31d3-4823-9865-67eca8e2b948",
     "showTitle": false,
     "title": ""
    }
   },
   "outputs": [],
   "source": [
    "import pandas as pd\n",
    "ames_housing = pd.read_csv('AmesHousing.csv')\n",
    "\n",
    "target_name = \"SalePrice\"\n",
    "data, target = (\n",
    "    ames_housing.drop(columns=target_name),\n",
    "    ames_housing[target_name],\n",
    ")"
   ]
  },
  {
   "cell_type": "code",
   "execution_count": 0,
   "metadata": {
    "application/vnd.databricks.v1+cell": {
     "cellMetadata": {
      "byteLimit": 2048000,
      "rowLimit": 10000
     },
     "inputWidgets": {},
     "nuid": "5f523ecf-3d49-487f-b245-5f0fd94c6190",
     "showTitle": false,
     "title": ""
    }
   },
   "outputs": [],
   "source": [
    "ames_housing['PID']"
   ]
  },
  {
   "cell_type": "code",
   "execution_count": 0,
   "metadata": {
    "application/vnd.databricks.v1+cell": {
     "cellMetadata": {
      "byteLimit": 2048000,
      "rowLimit": 10000
     },
     "inputWidgets": {},
     "nuid": "682f37f4-92aa-4d6e-8eba-a50725fef0c3",
     "showTitle": false,
     "title": ""
    }
   },
   "outputs": [],
   "source": [
    "import matplotlib.pyplot as plt\n",
    "\n",
    "target.plot.hist(bins=20, edgecolor=\"black\")\n",
    "plt.xlabel(\"House price in $\")\n",
    "_ = plt.title(\"Distribution of the house price \\nin Ames\")\n",
    "%matplotlib inline\n",
    "plt.show()"
   ]
  },
  {
   "cell_type": "code",
   "execution_count": 0,
   "metadata": {
    "application/vnd.databricks.v1+cell": {
     "cellMetadata": {
      "byteLimit": 2048000,
      "rowLimit": 10000
     },
     "inputWidgets": {},
     "nuid": "71e760f5-2b48-4481-b59d-8e5c42e06fc7",
     "showTitle": false,
     "title": ""
    }
   },
   "outputs": [],
   "source": [
    "string_data = ames_housing.select_dtypes(object)\n",
    "string_data.info()\n",
    "\n",
    "from math import ceil\n",
    "from itertools import zip_longest\n",
    "\n",
    "n_string_features = string_data.shape[1]\n",
    "nrows, ncols = ceil(n_string_features / 4), 4\n",
    "\n",
    "fig, axs = plt.subplots(ncols=ncols, nrows=nrows, figsize=(14, 80))\n",
    "\n",
    "for feature_name, ax in zip_longest(string_data, axs.ravel()):\n",
    "    if feature_name is None:\n",
    "        # do not show the axis\n",
    "        ax.axis(\"off\")\n",
    "        continue\n",
    "\n",
    "    string_data[feature_name].value_counts().plot.barh(ax=ax)\n",
    "    ax.set_title(feature_name)\n",
    "\n",
    "plt.subplots_adjust(hspace=0.2, wspace=0.8)"
   ]
  },
  {
   "cell_type": "code",
   "execution_count": 0,
   "metadata": {
    "application/vnd.databricks.v1+cell": {
     "cellMetadata": {
      "byteLimit": 2048000,
      "rowLimit": 10000
     },
     "inputWidgets": {},
     "nuid": "142c88aa-3a0b-432b-adf8-62e683784281",
     "showTitle": false,
     "title": ""
    }
   },
   "outputs": [],
   "source": []
  }
 ],
 "metadata": {
  "application/vnd.databricks.v1+notebook": {
   "dashboards": [],
   "language": "python",
   "notebookMetadata": {
    "pythonIndentUnit": 4
   },
   "notebookName": "data_analysis",
   "widgets": {}
  },
  "kernelspec": {
   "display_name": ".venv",
   "language": "python",
   "name": "python3"
  },
  "language_info": {
   "codemirror_mode": {
    "name": "ipython",
    "version": 3
   },
   "file_extension": ".py",
   "mimetype": "text/x-python",
   "name": "python",
   "nbconvert_exporter": "python",
   "pygments_lexer": "ipython3",
   "version": "3.10.10"
  },
  "orig_nbformat": 4,
  "vscode": {
   "interpreter": {
    "hash": "bef7184c44202549aead4098124e759d89304349af20729cea842e307384a7f7"
   }
  }
 },
 "nbformat": 4,
 "nbformat_minor": 0
}
