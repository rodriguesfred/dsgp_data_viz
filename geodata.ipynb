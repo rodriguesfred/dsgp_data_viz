{
 "cells": [
  {
   "cell_type": "code",
   "execution_count": 4,
   "metadata": {
    "application/vnd.databricks.v1+cell": {
     "cellMetadata": {
      "byteLimit": 2048000,
      "rowLimit": 10000
     },
     "inputWidgets": {},
     "nuid": "b3e0353c-bc8c-4379-92f3-5e1a5cac7a2c",
     "showTitle": false,
     "title": ""
    }
   },
   "outputs": [],
   "source": [
    "import requests\n",
    "import geopandas as gpd\n",
    "import geojson\n",
    "import pandas as pd\n"
   ]
  },
  {
   "cell_type": "code",
   "execution_count": 5,
   "metadata": {
    "application/vnd.databricks.v1+cell": {
     "cellMetadata": {
      "byteLimit": 2048000,
      "rowLimit": 10000
     },
     "inputWidgets": {},
     "nuid": "e706c737-af12-46d0-a1be-90c6545a267c",
     "showTitle": false,
     "title": ""
    }
   },
   "outputs": [
    {
     "name": "stderr",
     "output_type": "stream",
     "text": [
      "C:\\Users\\local_x964246D\\Temp\\ipykernel_39120\\812275049.py:2: DtypeWarning: Columns (36,40,81,87) have mixed types. Specify dtype option on import or set low_memory=False.\n",
      "  realestate_data = pd.read_csv('data/Ames_Real_Estate_Data.csv')\n"
     ]
    }
   ],
   "source": [
    "ames_housing = pd.read_csv('data/AmesHousing.csv')\n",
    "realestate_data = pd.read_csv('data/Ames_Real_Estate_Data.csv')\n",
    "\n",
    "neighbourhoods = pd.read_csv('data/neighbourhood_codes.csv', names=['codes', 'Neighborhood_name'])\n",
    "neighbourhoods['codes']=neighbourhoods['codes'].str.strip()\n"
   ]
  },
  {
   "cell_type": "code",
   "execution_count": 6,
   "metadata": {
    "application/vnd.databricks.v1+cell": {
     "cellMetadata": {
      "byteLimit": 2048000,
      "rowLimit": 10000
     },
     "inputWidgets": {},
     "nuid": "1aa072c7-14c3-4e5b-abd7-51197dc6089d",
     "showTitle": false,
     "title": ""
    }
   },
   "outputs": [],
   "source": [
    "cleaned_data = ames_housing.merge(neighbourhoods, left_on='Neighborhood', right_on='codes')"
   ]
  },
  {
   "cell_type": "code",
   "execution_count": 7,
   "metadata": {
    "application/vnd.databricks.v1+cell": {
     "cellMetadata": {
      "byteLimit": 2048000,
      "rowLimit": 10000
     },
     "inputWidgets": {},
     "nuid": "7061b666-9e34-4c35-b4c0-00bc35a4d564",
     "showTitle": false,
     "title": ""
    }
   },
   "outputs": [
    {
     "name": "stdout",
     "output_type": "stream",
     "text": [
      "<class 'pandas.core.frame.DataFrame'>\n",
      "RangeIndex: 2487 entries, 0 to 2486\n",
      "Data columns (total 2 columns):\n",
      " #   Column             Non-Null Count  Dtype \n",
      "---  ------             --------------  ----- \n",
      " 0   Neighborhood       2487 non-null   object\n",
      " 1   Neighborhood_name  2487 non-null   object\n",
      "dtypes: object(2)\n",
      "memory usage: 39.0+ KB\n"
     ]
    }
   ],
   "source": [
    "# Confirming no problems with the join\n",
    "cleaned_data.loc[:,['Neighborhood', 'Neighborhood_name']].info()"
   ]
  },
  {
   "cell_type": "code",
   "execution_count": 8,
   "metadata": {
    "application/vnd.databricks.v1+cell": {
     "cellMetadata": {
      "byteLimit": 2048000,
      "rowLimit": 10000
     },
     "inputWidgets": {},
     "nuid": "85494a9d-1e4e-48be-8ff7-9ce5b3904ef5",
     "showTitle": false,
     "title": ""
    }
   },
   "outputs": [],
   "source": [
    "cleaned_data = cleaned_data.merge(realestate_data, left_on='PID', right_on='MapRefNo')"
   ]
  },
  {
   "cell_type": "code",
   "execution_count": 9,
   "metadata": {
    "application/vnd.databricks.v1+cell": {
     "cellMetadata": {
      "byteLimit": 2048000,
      "rowLimit": 10000
     },
     "inputWidgets": {},
     "nuid": "c39ed7da-e30c-4b2c-a0ad-8ace2f0ba88a",
     "showTitle": false,
     "title": ""
    }
   },
   "outputs": [
    {
     "name": "stdout",
     "output_type": "stream",
     "text": [
      "2459\n"
     ]
    },
    {
     "data": {
      "text/html": [
       "<div>\n",
       "<style scoped>\n",
       "    .dataframe tbody tr th:only-of-type {\n",
       "        vertical-align: middle;\n",
       "    }\n",
       "\n",
       "    .dataframe tbody tr th {\n",
       "        vertical-align: top;\n",
       "    }\n",
       "\n",
       "    .dataframe thead th {\n",
       "        text-align: right;\n",
       "    }\n",
       "</style>\n",
       "<table border=\"1\" class=\"dataframe\">\n",
       "  <thead>\n",
       "    <tr style=\"text-align: right;\">\n",
       "      <th></th>\n",
       "      <th>PID</th>\n",
       "      <th>MapRefNo</th>\n",
       "    </tr>\n",
       "  </thead>\n",
       "  <tbody>\n",
       "    <tr>\n",
       "      <th>0</th>\n",
       "      <td>527105010</td>\n",
       "      <td>527105010</td>\n",
       "    </tr>\n",
       "    <tr>\n",
       "      <th>1</th>\n",
       "      <td>527105030</td>\n",
       "      <td>527105030</td>\n",
       "    </tr>\n",
       "    <tr>\n",
       "      <th>2</th>\n",
       "      <td>527162130</td>\n",
       "      <td>527162130</td>\n",
       "    </tr>\n",
       "    <tr>\n",
       "      <th>3</th>\n",
       "      <td>527163010</td>\n",
       "      <td>527163010</td>\n",
       "    </tr>\n",
       "    <tr>\n",
       "      <th>4</th>\n",
       "      <td>527165230</td>\n",
       "      <td>527165230</td>\n",
       "    </tr>\n",
       "    <tr>\n",
       "      <th>...</th>\n",
       "      <td>...</td>\n",
       "      <td>...</td>\n",
       "    </tr>\n",
       "    <tr>\n",
       "      <th>2502</th>\n",
       "      <td>533350020</td>\n",
       "      <td>533350020</td>\n",
       "    </tr>\n",
       "    <tr>\n",
       "      <th>2503</th>\n",
       "      <td>532476050</td>\n",
       "      <td>532476050</td>\n",
       "    </tr>\n",
       "    <tr>\n",
       "      <th>2504</th>\n",
       "      <td>533250130</td>\n",
       "      <td>533250130</td>\n",
       "    </tr>\n",
       "    <tr>\n",
       "      <th>2505</th>\n",
       "      <td>533252020</td>\n",
       "      <td>533252020</td>\n",
       "    </tr>\n",
       "    <tr>\n",
       "      <th>2506</th>\n",
       "      <td>533350050</td>\n",
       "      <td>533350050</td>\n",
       "    </tr>\n",
       "  </tbody>\n",
       "</table>\n",
       "<p>2507 rows × 2 columns</p>\n",
       "</div>"
      ],
      "text/plain": [
       "            PID   MapRefNo\n",
       "0     527105010  527105010\n",
       "1     527105030  527105030\n",
       "2     527162130  527162130\n",
       "3     527163010  527163010\n",
       "4     527165230  527165230\n",
       "...         ...        ...\n",
       "2502  533350020  533350020\n",
       "2503  532476050  532476050\n",
       "2504  533250130  533250130\n",
       "2505  533252020  533252020\n",
       "2506  533350050  533350050\n",
       "\n",
       "[2507 rows x 2 columns]"
      ]
     },
     "execution_count": 9,
     "metadata": {},
     "output_type": "execute_result"
    }
   ],
   "source": [
    "# Confirming no problems with the join\n",
    "print(len(cleaned_data.loc[:,'PID'].unique()))\n",
    "cleaned_data.loc[:,['PID', 'MapRefNo']]"
   ]
  },
  {
   "cell_type": "code",
   "execution_count": 15,
   "metadata": {
    "application/vnd.databricks.v1+cell": {
     "cellMetadata": {
      "byteLimit": 2048000,
      "rowLimit": 10000
     },
     "inputWidgets": {},
     "nuid": "63bbdd41-e114-486b-87e4-1712d87904a9",
     "showTitle": false,
     "title": ""
    }
   },
   "outputs": [],
   "source": [
    "import geocoder\n",
    "\n",
    "# Aquiring json coordinates\n",
    "cleaned_data['geolocation'] = cleaned_data['Prop_Addr_Full'].apply(lambda x: geocoder.arcgis(x).json)"
   ]
  },
  {
   "cell_type": "code",
   "execution_count": null,
   "metadata": {
    "application/vnd.databricks.v1+cell": {
     "cellMetadata": {
      "byteLimit": 2048000,
      "rowLimit": 10000
     },
     "inputWidgets": {},
     "nuid": "4921e669-a6a7-4a87-883f-5eda157c8155",
     "showTitle": false,
     "title": ""
    }
   },
   "outputs": [],
   "source": [
    "for i in range(len(cleaned_data['geolocation'])):\n",
    "    cleaned_data['lat'][i] = cleaned_data['geolocation'][i]['lat']\n",
    "    cleaned_data['lng'][i] = cleaned_data['geolocation'][i]['lng']\n"
   ]
  },
  {
   "cell_type": "code",
   "execution_count": null,
   "metadata": {},
   "outputs": [],
   "source": [
    "# Remove entry with no address\n",
    "cleaned_data = cleaned_data[~(cleaned_data['PID']==533210020)]\n",
    "\n",
    "cleaned_data['price_sq2'] = cleaned_data['SalePrice_x']/cleaned_data['Lot Area']\n",
    "\n",
    "cleaned_data.to_csv('data/geodata.csv')"
   ]
  },
  {
   "cell_type": "code",
   "execution_count": null,
   "metadata": {
    "application/vnd.databricks.v1+cell": {
     "cellMetadata": {
      "byteLimit": 2048000,
      "rowLimit": 10000
     },
     "inputWidgets": {},
     "nuid": "5e48de45-bf8c-4907-944c-cba2f31c591c",
     "showTitle": false,
     "title": ""
    }
   },
   "outputs": [],
   "source": [
    "cleaned_data['geometry'] = gpd.points_from_xy(cleaned_data.lng, cleaned_data.lat, crs=\"EPSG:4326\")"
   ]
  },
  {
   "cell_type": "code",
   "execution_count": null,
   "metadata": {
    "application/vnd.databricks.v1+cell": {
     "cellMetadata": {
      "byteLimit": 2048000,
      "rowLimit": 10000
     },
     "inputWidgets": {},
     "nuid": "896eed70-b88f-4cbe-b7ef-9688e431e645",
     "showTitle": false,
     "title": ""
    }
   },
   "outputs": [],
   "source": [
    "cleaned_data_gdf = gpd.GeoDataFrame(cleaned_data, geometry='geometry')"
   ]
  },
  {
   "cell_type": "code",
   "execution_count": null,
   "metadata": {
    "application/vnd.databricks.v1+cell": {
     "cellMetadata": {
      "byteLimit": 2048000,
      "rowLimit": 10000
     },
     "inputWidgets": {},
     "nuid": "00c299d6-a4ce-4709-af44-2ee192826ce7",
     "showTitle": false,
     "title": ""
    }
   },
   "outputs": [
    {
     "data": {
      "text/plain": [
       "Databricks data profile. Run in Databricks to view."
      ]
     },
     "metadata": {
      "application/vnd.databricks.v1.subcommand+json": {
       "bindings": {},
       "collapsed": false,
       "command": "%python\nif hasattr(dbutils, \"data\") and hasattr(dbutils.data, \"summarize\"):\n  # setup\n  __data_summary_display_orig = display\n  __data_summary_dfs = []\n  def __data_summary_display_new(df):\n    # add only when result is going to be table type\n    __data_summary_df_modules = [\"pandas.core.frame\", \"databricks.koalas.frame\", \"pyspark.sql.dataframe\", \"pyspark.pandas.frame\", \"pyspark.sql.connect.dataframe\"]\n    if (type(df).__module__ in __data_summary_df_modules and type(df).__name__ == 'DataFrame') or isinstance(df, list):\n      __data_summary_dfs.append(df)\n  display = __data_summary_display_new\n\n  def __data_summary_user_code_fn():\n    import base64\n    exec(base64.standard_b64decode(\"ZGlzcGxheShjbGVhbmVkX2RhdGEuZHJvcChjb2x1bW5zPSdnZW9tZXRyeScpKQ==\").decode())\n\n  try:\n    # run user code\n    __data_summary_user_code_fn()\n\n    # run on valid tableResultIndex\n    if len(__data_summary_dfs) > 0:\n      # run summarize\n      if type(__data_summary_dfs[0]).__module__ == \"databricks.koalas.frame\":\n        # koalas dataframe\n        dbutils.data.summarize(__data_summary_dfs[0].to_spark())\n      elif type(__data_summary_dfs[0]).__module__ == \"pandas.core.frame\":\n        # pandas dataframe\n        dbutils.data.summarize(spark.createDataFrame(__data_summary_dfs[0]))\n      else:\n        dbutils.data.summarize(__data_summary_dfs[0])\n    else:\n        displayHTML(\"dataframe no longer exists. If you're using dataframe.display(), use display(dataframe) instead.\")\n\n  finally:\n    display = __data_summary_display_orig\n    del __data_summary_display_new\n    del __data_summary_display_orig\n    del __data_summary_dfs\n    del __data_summary_user_code_fn\nelse:\n  print(\"This DBR version does not support data profiles.\")",
       "commandTitle": "Data Profile 1",
       "commandType": "auto",
       "commandVersion": 0,
       "commentThread": [],
       "commentsVisible": false,
       "contentSha256Hex": null,
       "customPlotOptions": {},
       "datasetPreviewNameToCmdIdMap": {},
       "diffDeletes": [],
       "diffInserts": [],
       "displayType": "table",
       "error": null,
       "errorDetails": null,
       "errorSummary": null,
       "errorTraceType": null,
       "finishTime": 1701868366135,
       "globalVars": {},
       "guid": "",
       "height": "auto",
       "hideCommandCode": false,
       "hideCommandResult": false,
       "iPythonMetadata": null,
       "inputWidgets": {},
       "isLockedInExamMode": false,
       "latestUser": "a user",
       "latestUserId": null,
       "listResultMetadata": [
        [
         "ansi",
         397
        ],
        [
         "mimeBundle",
         null
        ]
       ],
       "metadata": {
        "byteLimit": 2048000,
        "rowLimit": 10000
       },
       "nuid": "7297c056-7691-4b87-b5c6-b2472b9e9ae5",
       "origId": 0,
       "parentHierarchy": [],
       "pivotAggregation": null,
       "pivotColumns": null,
       "position": 11.125,
       "resultDbfsErrorMessage": null,
       "resultDbfsStatus": "INLINED_IN_TREE",
       "results": null,
       "showCommandTitle": false,
       "startTime": 1701868337966,
       "state": "input",
       "streamStates": {},
       "subcommandOptions": null,
       "submitTime": 1701868337931,
       "subtype": "tableResultSubCmd.dataSummary",
       "tableResultIndex": 0,
       "useConsistentColors": false,
       "version": "CommandV1",
       "width": "auto",
       "workflows": null,
       "xColumns": null,
       "yColumns": null
      }
     },
     "output_type": "display_data"
    }
   ],
   "source": [
    "display(cleaned_data.drop(columns='geometry'))"
   ]
  },
  {
   "cell_type": "code",
   "execution_count": null,
   "metadata": {
    "application/vnd.databricks.v1+cell": {
     "cellMetadata": {
      "byteLimit": 2048000,
      "rowLimit": 10000
     },
     "inputWidgets": {},
     "nuid": "830a10d3-c37e-4375-8b9b-1267a1f8646a",
     "showTitle": false,
     "title": ""
    }
   },
   "outputs": [],
   "source": [
    "cleaned_data_gdf.dissolve().centroid"
   ]
  },
  {
   "cell_type": "code",
   "execution_count": null,
   "metadata": {
    "application/vnd.databricks.v1+cell": {
     "cellMetadata": {
      "byteLimit": 2048000,
      "rowLimit": 10000
     },
     "inputWidgets": {},
     "nuid": "11e3e0b2-686c-40dd-909d-f1f7d1b18bb8",
     "showTitle": false,
     "title": ""
    }
   },
   "outputs": [],
   "source": [
    "import plotly.graph_objects as go\n",
    "import matplotlib.pyplot as plt\n",
    "\n",
    "mapbox_access_token = \"pk.eyJ1IjoiZnJlZGVyaWNvcm9kcmlndWVzIiwiYSI6ImNrbmp6OGEyYjA2YWQycXBuYzc0c3Bha3oifQ.yQLJy408VtnzKC0Vgijv8A\"\n",
    "\n",
    "selected_column='Neighborhood_name'\n",
    "gdf = cleaned_data_gdf\n",
    "# Get all unique values from the 'category_column'\n",
    "gdf = gdf.sort_values(by=selected_column)\n",
    "unique_values = gdf.loc[:,selected_column].unique()\n",
    "\n",
    "# Generate a list of distinct colors using the 'tab20' colormap from matplotlib\n",
    "colors = plt.cm.tab20.colors\n",
    "color_scale = [f'rgb({int(r * 255)},{int(g * 255)},{int(b * 255)})' for r, g, b in colors]\n",
    "# Create the 'category_colors' dictionary by mapping each unique category to a color\n",
    "unique_values_colours = {category: color for category, color in zip(unique_values, color_scale)}\n",
    "\n",
    "# Map the categories in the GeoDataFrame to the corresponding colors\n",
    "gdf['color'] = gdf[selected_column].map(unique_values_colours)\n",
    "\n",
    "fig = go.Figure()\n",
    "\n",
    "for val in unique_values:\n",
    "    df_color = gdf[gdf[selected_column] == val]\n",
    "\n",
    "    fig.add_trace(\n",
    "        go.Scattermapbox(\n",
    "                        name=val,\n",
    "                        lat=df_color['lat'],\n",
    "                        lon=df_color['lng'],\n",
    "                        mode = 'markers',\n",
    "                        marker = dict(\n",
    "                            size = 5,\n",
    "                            opacity = 1,\n",
    "\n",
    "                            color = df_color['color'],\n",
    "                        ),\n",
    "                        # hovertext=df_color['tooltip'],\n",
    "                        hovertemplate='<extra></extra>',\n",
    "                    )\n",
    "                )\n",
    "\n",
    "fig.update_layout(\n",
    "   autosize=True,\n",
    "   hovermode='closest',\n",
    "   mapbox=dict(\n",
    "       accesstoken=mapbox_access_token,\n",
    "       bearing=0,\n",
    "       center=dict(\n",
    "           lat=42.03327,\n",
    "           lon=-93.64773\n",
    "       ),\n",
    "       pitch=0,\n",
    "       zoom=10\n",
    "   ),\n",
    ")\n",
    "\n",
    "display(fig)"
   ]
  },
  {
   "cell_type": "code",
   "execution_count": null,
   "metadata": {
    "application/vnd.databricks.v1+cell": {
     "cellMetadata": {
      "byteLimit": 2048000,
      "rowLimit": 10000
     },
     "inputWidgets": {},
     "nuid": "32abfb65-6cd2-4e5b-943d-6f3ebd5d0366",
     "showTitle": false,
     "title": ""
    }
   },
   "outputs": [],
   "source": [
    "import plotly.graph_objects as go\n",
    "import matplotlib.pyplot as plt\n",
    "\n",
    "mapbox_access_token = \"pk.eyJ1IjoiZnJlZGVyaWNvcm9kcmlndWVzIiwiYSI6ImNrbmp6OGEyYjA2YWQycXBuYzc0c3Bha3oifQ.yQLJy408VtnzKC0Vgijv8A\"\n",
    "\n",
    "selected_column='price_sq2'\n",
    "gdf = cleaned_data\n",
    "\n",
    "gdf.dropna(subset=[selected_column], inplace=True)\n",
    "\n",
    "fig = go.Figure()\n",
    "\n",
    "fig.add_trace(\n",
    "    go.Scattermapbox(\n",
    "                    name=val,\n",
    "                    lat=gdf['lat'],\n",
    "                    lon=gdf['lng'],\n",
    "                    mode = 'markers',\n",
    "                    marker = dict(\n",
    "                        size = 5,\n",
    "                        opacity = 1,\n",
    "                        color=gdf[selected_column],\n",
    "                        colorscale='RdYlGn',\n",
    "                        colorbar=dict(\n",
    "                            title=\"Price per sq feet\",\n",
    "                            thicknessmode=\"pixels\", thickness=50,\n",
    "                            # lenmode=\"pixels\", len=200,\n",
    "                            yanchor=\"top\", y=1,\n",
    "                            ticks=\"outside\",\n",
    "                            dtick=5\n",
    "                        )\n",
    "                    ),\n",
    "                    hovertext=gdf[selected_column],\n",
    "                    # hovertemplate='<extra></extra>',\n",
    "                )\n",
    "            )\n",
    "\n",
    "fig.update_layout(\n",
    "   autosize=True,\n",
    "   hovermode='closest',\n",
    "   mapbox=dict(\n",
    "       accesstoken=mapbox_access_token,\n",
    "       bearing=0,\n",
    "       center=dict(\n",
    "           lat=42.03327,\n",
    "           lon=-93.64773\n",
    "       ),\n",
    "       pitch=0,\n",
    "       zoom=10\n",
    "   ),\n",
    ")\n",
    "\n",
    "display(fig)"
   ]
  },
  {
   "cell_type": "code",
   "execution_count": null,
   "metadata": {
    "application/vnd.databricks.v1+cell": {
     "cellMetadata": {
      "byteLimit": 2048000,
      "rowLimit": 10000
     },
     "inputWidgets": {},
     "nuid": "a3091bba-27c6-436b-bd3e-76a5df013e45",
     "showTitle": false,
     "title": ""
    }
   },
   "outputs": [],
   "source": [
    "import plotly.graph_objects as go\n",
    "import matplotlib.pyplot as plt\n",
    "\n",
    "mapbox_access_token = \"pk.eyJ1IjoiZnJlZGVyaWNvcm9kcmlndWVzIiwiYSI6ImNrbmp6OGEyYjA2YWQycXBuYzc0c3Bha3oifQ.yQLJy408VtnzKC0Vgijv8A\"\n",
    "\n",
    "selected_column='Neighborhood_name'\n",
    "gdf = cleaned_data_gdf\n",
    "\n",
    "values = cleaned_data_gdf['Lot Area']\n",
    "max_value = values.max()\n",
    "\n",
    "def color_scale(value):\n",
    "   return 'rgb(0, 0, {})'.format(int(255 * value / max_value))\n",
    "\n",
    "# Create a Scattermapbox object\n",
    "scatter = go.Scattermapbox(\n",
    "    lat=df_color['lat'],\n",
    "    lon=df_color['lng'],\n",
    "    mode = 'markers',\n",
    "    marker = go.scattermapbox.Marker(\n",
    "        size = [10],\n",
    "        color = [color_scale(value) for value in values], # set color based on a data column\n",
    "        opacity = [0.8],\n",
    "    ),\n",
    "    text = ['Marker 1'],\n",
    ")\n",
    "\n",
    "fig = go.Figure(data=scatter)\n",
    "\n",
    "fig.update_layout(\n",
    "   autosize=True,\n",
    "   hovermode='closest',\n",
    "   mapbox=dict(\n",
    "       accesstoken=mapbox_access_token,\n",
    "       bearing=0,\n",
    "       center=dict(\n",
    "           lat=42.03327,\n",
    "           lon=-93.64773\n",
    "       ),\n",
    "       pitch=0,\n",
    "       zoom=10\n",
    "   ),\n",
    ")\n",
    "\n",
    "display(fig)"
   ]
  },
  {
   "cell_type": "code",
   "execution_count": null,
   "metadata": {
    "application/vnd.databricks.v1+cell": {
     "cellMetadata": {},
     "inputWidgets": {},
     "nuid": "3b739d87-54c3-48ab-8368-f68800787bb0",
     "showTitle": false,
     "title": ""
    }
   },
   "outputs": [],
   "source": []
  }
 ],
 "metadata": {
  "application/vnd.databricks.v1+notebook": {
   "dashboards": [],
   "language": "python",
   "notebookMetadata": {
    "pythonIndentUnit": 4
   },
   "notebookName": "geodata",
   "widgets": {}
  },
  "kernelspec": {
   "display_name": ".venv",
   "language": "python",
   "name": "python3"
  },
  "language_info": {
   "codemirror_mode": {
    "name": "ipython",
    "version": 3
   },
   "file_extension": ".py",
   "mimetype": "text/x-python",
   "name": "python",
   "nbconvert_exporter": "python",
   "pygments_lexer": "ipython3",
   "version": "3.10.10"
  },
  "orig_nbformat": 4,
  "vscode": {
   "interpreter": {
    "hash": "bef7184c44202549aead4098124e759d89304349af20729cea842e307384a7f7"
   }
  }
 },
 "nbformat": 4,
 "nbformat_minor": 0
}
